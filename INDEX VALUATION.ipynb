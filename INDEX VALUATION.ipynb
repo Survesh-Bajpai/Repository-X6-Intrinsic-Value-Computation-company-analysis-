{
 "cells": [
  {
   "cell_type": "code",
   "execution_count": 11,
   "id": "d90fb946-9dc5-4a2a-9146-fa4a33a481d3",
   "metadata": {},
   "outputs": [
    {
     "name": "stderr",
     "output_type": "stream",
     "text": [
      "Processing NIFTY50 companies:   2%|▎             | 1/50 [00:00<00:11,  4.40it/s]"
     ]
    },
    {
     "name": "stdout",
     "output_type": "stream",
     "text": [
      "⚠️ Skipping RELIANCE.NS due to missing financial data.\n"
     ]
    },
    {
     "name": "stderr",
     "output_type": "stream",
     "text": [
      "/var/folders/6v/9qg480fs1tl47ks4b9pr9dmr0000gn/T/ipykernel_53522/3146843494.py:68: FutureWarning: The behavior of DataFrame concatenation with empty or all-NA entries is deprecated. In a future version, this will no longer exclude empty or all-NA columns when determining the result dtypes. To retain the old behavior, exclude the relevant entries before the concat operation.\n",
      "  financial_data = pd.concat([financial_data, pd.DataFrame([{\n",
      "Processing NIFTY50 companies:   8%|█             | 4/50 [00:00<00:10,  4.29it/s]"
     ]
    },
    {
     "name": "stdout",
     "output_type": "stream",
     "text": [
      "⚠️ Skipping HDFCBANK.NS due to missing financial data.\n"
     ]
    },
    {
     "name": "stderr",
     "output_type": "stream",
     "text": [
      "Processing NIFTY50 companies:  10%|█▍            | 5/50 [00:01<00:10,  4.41it/s]"
     ]
    },
    {
     "name": "stdout",
     "output_type": "stream",
     "text": [
      "⚠️ Skipping ICICIBANK.NS due to missing financial data.\n"
     ]
    },
    {
     "name": "stderr",
     "output_type": "stream",
     "text": [
      "Processing NIFTY50 companies:  12%|█▋            | 6/50 [00:01<00:09,  4.47it/s]"
     ]
    },
    {
     "name": "stdout",
     "output_type": "stream",
     "text": [
      "⚠️ Skipping HINDUNILVR.NS due to missing financial data.\n"
     ]
    },
    {
     "name": "stderr",
     "output_type": "stream",
     "text": [
      "Processing NIFTY50 companies:  14%|█▉            | 7/50 [00:01<00:09,  4.49it/s]"
     ]
    },
    {
     "name": "stdout",
     "output_type": "stream",
     "text": [
      "⚠️ Skipping SBIN.NS due to missing financial data.\n"
     ]
    },
    {
     "name": "stderr",
     "output_type": "stream",
     "text": [
      "Processing NIFTY50 companies:  16%|██▏           | 8/50 [00:01<00:09,  4.53it/s]"
     ]
    },
    {
     "name": "stdout",
     "output_type": "stream",
     "text": [
      "⚠️ Skipping ITC.NS due to missing financial data.\n"
     ]
    },
    {
     "name": "stderr",
     "output_type": "stream",
     "text": [
      "Processing NIFTY50 companies:  18%|██▌           | 9/50 [00:02<00:08,  4.56it/s]"
     ]
    },
    {
     "name": "stdout",
     "output_type": "stream",
     "text": [
      "⚠️ Skipping LT.NS due to missing financial data.\n"
     ]
    },
    {
     "name": "stderr",
     "output_type": "stream",
     "text": [
      "Processing NIFTY50 companies:  20%|██▌          | 10/50 [00:02<00:08,  4.50it/s]"
     ]
    },
    {
     "name": "stdout",
     "output_type": "stream",
     "text": [
      "⚠️ Skipping KOTAKBANK.NS due to missing financial data.\n"
     ]
    },
    {
     "name": "stderr",
     "output_type": "stream",
     "text": [
      "Processing NIFTY50 companies:  22%|██▊          | 11/50 [00:02<00:08,  4.53it/s]"
     ]
    },
    {
     "name": "stdout",
     "output_type": "stream",
     "text": [
      "⚠️ Skipping AXISBANK.NS due to missing financial data.\n"
     ]
    },
    {
     "name": "stderr",
     "output_type": "stream",
     "text": [
      "Processing NIFTY50 companies:  26%|███▍         | 13/50 [00:02<00:08,  4.53it/s]"
     ]
    },
    {
     "name": "stdout",
     "output_type": "stream",
     "text": [
      "⚠️ Skipping ASIANPAINT.NS due to missing financial data.\n"
     ]
    },
    {
     "name": "stderr",
     "output_type": "stream",
     "text": [
      "Processing NIFTY50 companies:  28%|███▋         | 14/50 [00:03<00:07,  4.54it/s]"
     ]
    },
    {
     "name": "stdout",
     "output_type": "stream",
     "text": [
      "⚠️ Skipping BAJFINANCE.NS due to missing financial data.\n"
     ]
    },
    {
     "name": "stderr",
     "output_type": "stream",
     "text": [
      "Processing NIFTY50 companies:  32%|████▏        | 16/50 [00:03<00:07,  4.59it/s]"
     ]
    },
    {
     "name": "stdout",
     "output_type": "stream",
     "text": [
      "⚠️ Skipping MARUTI.NS due to missing financial data.\n"
     ]
    },
    {
     "name": "stderr",
     "output_type": "stream",
     "text": [
      "Processing NIFTY50 companies:  34%|████▍        | 17/50 [00:03<00:07,  4.60it/s]"
     ]
    },
    {
     "name": "stdout",
     "output_type": "stream",
     "text": [
      "⚠️ Skipping SUNPHARMA.NS due to missing financial data.\n"
     ]
    },
    {
     "name": "stderr",
     "output_type": "stream",
     "text": [
      "Processing NIFTY50 companies:  36%|████▋        | 18/50 [00:03<00:06,  4.59it/s]"
     ]
    },
    {
     "name": "stdout",
     "output_type": "stream",
     "text": [
      "⚠️ Skipping NTPC.NS due to missing financial data.\n"
     ]
    },
    {
     "name": "stderr",
     "output_type": "stream",
     "text": [
      "Processing NIFTY50 companies:  40%|█████▏       | 20/50 [00:04<00:06,  4.58it/s]"
     ]
    },
    {
     "name": "stdout",
     "output_type": "stream",
     "text": [
      "⚠️ Skipping ULTRACEMCO.NS due to missing financial data.\n"
     ]
    },
    {
     "name": "stderr",
     "output_type": "stream",
     "text": [
      "Processing NIFTY50 companies:  42%|█████▍       | 21/50 [00:04<00:06,  4.57it/s]"
     ]
    },
    {
     "name": "stdout",
     "output_type": "stream",
     "text": [
      "⚠️ Skipping POWERGRID.NS due to missing financial data.\n"
     ]
    },
    {
     "name": "stderr",
     "output_type": "stream",
     "text": [
      "Processing NIFTY50 companies:  44%|█████▋       | 22/50 [00:04<00:06,  4.59it/s]"
     ]
    },
    {
     "name": "stdout",
     "output_type": "stream",
     "text": [
      "⚠️ Skipping NESTLEIND.NS due to missing financial data.\n"
     ]
    },
    {
     "name": "stderr",
     "output_type": "stream",
     "text": [
      "Processing NIFTY50 companies:  46%|█████▉       | 23/50 [00:05<00:05,  4.60it/s]"
     ]
    },
    {
     "name": "stdout",
     "output_type": "stream",
     "text": [
      "⚠️ Skipping TITAN.NS due to missing financial data.\n"
     ]
    },
    {
     "name": "stderr",
     "output_type": "stream",
     "text": [
      "Processing NIFTY50 companies:  48%|██████▏      | 24/50 [00:05<00:05,  4.58it/s]"
     ]
    },
    {
     "name": "stdout",
     "output_type": "stream",
     "text": [
      "⚠️ Skipping JSWSTEEL.NS due to missing financial data.\n"
     ]
    },
    {
     "name": "stderr",
     "output_type": "stream",
     "text": [
      "Processing NIFTY50 companies:  50%|██████▌      | 25/50 [00:05<00:05,  4.60it/s]"
     ]
    },
    {
     "name": "stdout",
     "output_type": "stream",
     "text": [
      "⚠️ Skipping TATAMOTORS.NS due to missing financial data.\n"
     ]
    },
    {
     "name": "stderr",
     "output_type": "stream",
     "text": [
      "Processing NIFTY50 companies:  52%|██████▊      | 26/50 [00:05<00:05,  4.60it/s]"
     ]
    },
    {
     "name": "stdout",
     "output_type": "stream",
     "text": [
      "⚠️ Skipping COALINDIA.NS due to missing financial data.\n"
     ]
    },
    {
     "name": "stderr",
     "output_type": "stream",
     "text": [
      "Processing NIFTY50 companies:  54%|███████      | 27/50 [00:05<00:05,  4.58it/s]"
     ]
    },
    {
     "name": "stdout",
     "output_type": "stream",
     "text": [
      "⚠️ Skipping TATASTEEL.NS due to missing financial data.\n"
     ]
    },
    {
     "name": "stderr",
     "output_type": "stream",
     "text": [
      "Processing NIFTY50 companies:  56%|███████▎     | 28/50 [00:06<00:04,  4.55it/s]"
     ]
    },
    {
     "name": "stdout",
     "output_type": "stream",
     "text": [
      "⚠️ Skipping GRASIM.NS due to missing financial data.\n"
     ]
    },
    {
     "name": "stderr",
     "output_type": "stream",
     "text": [
      "Processing NIFTY50 companies:  58%|███████▌     | 29/50 [00:06<00:04,  4.54it/s]"
     ]
    },
    {
     "name": "stdout",
     "output_type": "stream",
     "text": [
      "⚠️ Skipping ADANIENT.NS due to missing financial data.\n"
     ]
    },
    {
     "name": "stderr",
     "output_type": "stream",
     "text": [
      "Processing NIFTY50 companies:  60%|███████▊     | 30/50 [00:06<00:04,  4.57it/s]"
     ]
    },
    {
     "name": "stdout",
     "output_type": "stream",
     "text": [
      "⚠️ Skipping TECHM.NS due to missing financial data.\n"
     ]
    },
    {
     "name": "stderr",
     "output_type": "stream",
     "text": [
      "Processing NIFTY50 companies:  62%|████████     | 31/50 [00:06<00:04,  4.56it/s]"
     ]
    },
    {
     "name": "stdout",
     "output_type": "stream",
     "text": [
      "⚠️ Skipping INDUSINDBK.NS due to missing financial data.\n"
     ]
    },
    {
     "name": "stderr",
     "output_type": "stream",
     "text": [
      "Processing NIFTY50 companies:  64%|████████▎    | 32/50 [00:07<00:03,  4.56it/s]"
     ]
    },
    {
     "name": "stdout",
     "output_type": "stream",
     "text": [
      "⚠️ Skipping BPCL.NS due to missing financial data.\n"
     ]
    },
    {
     "name": "stderr",
     "output_type": "stream",
     "text": [
      "Processing NIFTY50 companies:  66%|████████▌    | 33/50 [00:07<00:03,  4.57it/s]"
     ]
    },
    {
     "name": "stdout",
     "output_type": "stream",
     "text": [
      "⚠️ Skipping CIPLA.NS due to missing financial data.\n"
     ]
    },
    {
     "name": "stderr",
     "output_type": "stream",
     "text": [
      "Processing NIFTY50 companies:  70%|█████████    | 35/50 [00:07<00:03,  4.57it/s]"
     ]
    },
    {
     "name": "stdout",
     "output_type": "stream",
     "text": [
      "⚠️ Skipping BRITANNIA.NS due to missing financial data.\n"
     ]
    },
    {
     "name": "stderr",
     "output_type": "stream",
     "text": [
      "Processing NIFTY50 companies:  72%|█████████▎   | 36/50 [00:07<00:03,  4.58it/s]"
     ]
    },
    {
     "name": "stdout",
     "output_type": "stream",
     "text": [
      "⚠️ Skipping ONGC.NS due to missing financial data.\n"
     ]
    },
    {
     "name": "stderr",
     "output_type": "stream",
     "text": [
      "Processing NIFTY50 companies:  74%|█████████▌   | 37/50 [00:08<00:02,  4.59it/s]"
     ]
    },
    {
     "name": "stdout",
     "output_type": "stream",
     "text": [
      "⚠️ Skipping HDFCLIFE.NS due to missing financial data.\n"
     ]
    },
    {
     "name": "stderr",
     "output_type": "stream",
     "text": [
      "Processing NIFTY50 companies:  76%|█████████▉   | 38/50 [00:08<00:02,  4.59it/s]"
     ]
    },
    {
     "name": "stdout",
     "output_type": "stream",
     "text": [
      "⚠️ Skipping BAJAJFINSV.NS due to missing financial data.\n"
     ]
    },
    {
     "name": "stderr",
     "output_type": "stream",
     "text": [
      "Processing NIFTY50 companies:  78%|██████████▏  | 39/50 [00:08<00:02,  4.60it/s]"
     ]
    },
    {
     "name": "stdout",
     "output_type": "stream",
     "text": [
      "⚠️ Skipping DIVISLAB.NS due to missing financial data.\n"
     ]
    },
    {
     "name": "stderr",
     "output_type": "stream",
     "text": [
      "Processing NIFTY50 companies:  80%|██████████▍  | 40/50 [00:08<00:02,  4.60it/s]"
     ]
    },
    {
     "name": "stdout",
     "output_type": "stream",
     "text": [
      "⚠️ Skipping BAJAJ-AUTO.NS due to missing financial data.\n"
     ]
    },
    {
     "name": "stderr",
     "output_type": "stream",
     "text": [
      "Processing NIFTY50 companies:  82%|██████████▋  | 41/50 [00:09<00:01,  4.58it/s]"
     ]
    },
    {
     "name": "stdout",
     "output_type": "stream",
     "text": [
      "⚠️ Skipping HINDALCO.NS due to missing financial data.\n"
     ]
    },
    {
     "name": "stderr",
     "output_type": "stream",
     "text": [
      "Processing NIFTY50 companies:  84%|██████████▉  | 42/50 [00:09<00:01,  4.56it/s]"
     ]
    },
    {
     "name": "stdout",
     "output_type": "stream",
     "text": [
      "⚠️ Skipping SBILIFE.NS due to missing financial data.\n"
     ]
    },
    {
     "name": "stderr",
     "output_type": "stream",
     "text": [
      "Processing NIFTY50 companies:  86%|███████████▏ | 43/50 [00:09<00:01,  4.59it/s]"
     ]
    },
    {
     "name": "stdout",
     "output_type": "stream",
     "text": [
      "⚠️ Skipping HEROMOTOCO.NS due to missing financial data.\n"
     ]
    },
    {
     "name": "stderr",
     "output_type": "stream",
     "text": [
      "Processing NIFTY50 companies:  88%|███████████▍ | 44/50 [00:09<00:01,  4.58it/s]"
     ]
    },
    {
     "name": "stdout",
     "output_type": "stream",
     "text": [
      "⚠️ Skipping EICHERMOT.NS due to missing financial data.\n"
     ]
    },
    {
     "name": "stderr",
     "output_type": "stream",
     "text": [
      "Processing NIFTY50 companies:  90%|███████████▋ | 45/50 [00:09<00:01,  4.61it/s]"
     ]
    },
    {
     "name": "stdout",
     "output_type": "stream",
     "text": [
      "⚠️ Skipping SHREECEM.NS due to missing financial data.\n"
     ]
    },
    {
     "name": "stderr",
     "output_type": "stream",
     "text": [
      "Processing NIFTY50 companies:  92%|███████████▉ | 46/50 [00:10<00:00,  4.62it/s]"
     ]
    },
    {
     "name": "stdout",
     "output_type": "stream",
     "text": [
      "⚠️ Skipping UPL.NS due to missing financial data.\n"
     ]
    },
    {
     "name": "stderr",
     "output_type": "stream",
     "text": [
      "Processing NIFTY50 companies:  94%|████████████▏| 47/50 [00:10<00:00,  4.62it/s]"
     ]
    },
    {
     "name": "stdout",
     "output_type": "stream",
     "text": [
      "⚠️ Skipping TATACONSUM.NS due to missing financial data.\n"
     ]
    },
    {
     "name": "stderr",
     "output_type": "stream",
     "text": [
      "Processing NIFTY50 companies:  96%|████████████▍| 48/50 [00:10<00:00,  4.62it/s]"
     ]
    },
    {
     "name": "stdout",
     "output_type": "stream",
     "text": [
      "⚠️ Skipping M&M.NS due to missing financial data.\n"
     ]
    },
    {
     "name": "stderr",
     "output_type": "stream",
     "text": [
      "Processing NIFTY50 companies:  98%|████████████▋| 49/50 [00:10<00:00,  4.63it/s]"
     ]
    },
    {
     "name": "stdout",
     "output_type": "stream",
     "text": [
      "⚠️ Skipping APOLLOHOSP.NS due to missing financial data.\n"
     ]
    },
    {
     "name": "stderr",
     "output_type": "stream",
     "text": [
      "Processing NIFTY50 companies: 100%|█████████████| 50/50 [00:10<00:00,  4.56it/s]"
     ]
    },
    {
     "name": "stdout",
     "output_type": "stream",
     "text": [
      "\n",
      "===== NIFTY 50 DCF Analysis Result (Corrected) =====\n",
      "\n",
      "          Ticker             Market Cap  Beta                 FCF  \\\n",
      "0         TCS.NS ₹11,937,526,054,912.00 ₹0.45 ₹346,417,496,064.00   \n",
      "4       WIPRO.NS  ₹2,576,371,941,376.00 ₹0.66 ₹126,595,497,984.00   \n",
      "2  BHARTIARTL.NS ₹10,447,031,894,016.00 ₹0.19  ₹58,636,124,160.00   \n",
      "6        LTIM.NS  ₹1,225,302,081,536.00 ₹0.59  ₹37,695,250,432.00   \n",
      "5     DRREDDY.NS    ₹924,757,000,192.00 ₹0.48  ₹11,819,374,592.00   \n",
      "1        INFY.NS  ₹6,014,302,158,848.00 ₹0.57   ₹3,050,374,912.00   \n",
      "3     HCLTECH.NS  ₹3,854,274,920,448.00 ₹0.49   ₹2,214,749,952.00   \n",
      "\n",
      "   Growth Rate                  Debt                 Equity  Cost of Debt  \\\n",
      "0        ₹0.05    ₹93,510,000,640.00 ₹11,937,526,054,912.00         ₹0.08   \n",
      "4        ₹0.05   ₹193,559,003,136.00  ₹2,576,371,941,376.00         ₹0.08   \n",
      "2        ₹0.05 ₹2,046,230,003,712.00 ₹10,447,031,894,016.00         ₹0.08   \n",
      "6        ₹0.05    ₹22,357,000,192.00  ₹1,225,302,081,536.00         ₹0.08   \n",
      "5        ₹0.05    ₹51,085,000,704.00    ₹924,757,000,192.00         ₹0.08   \n",
      "1        ₹0.05       ₹960,000,000.00  ₹6,014,302,158,848.00         ₹0.08   \n",
      "3        ₹0.05       ₹698,000,000.00  ₹3,854,274,920,448.00         ₹0.08   \n",
      "\n",
      "   Tax Rate  Cost of Equity  WACC       Intrinsic Value  Weight  \n",
      "0     ₹0.25           ₹0.09 ₹0.09 ₹8,599,624,045,298.76   ₹0.32  \n",
      "4     ₹0.25           ₹0.10 ₹0.10 ₹2,663,715,343,470.87   ₹0.07  \n",
      "2     ₹0.25           ₹0.08 ₹0.08 ₹2,325,652,360,455.15   ₹0.28  \n",
      "6     ₹0.25           ₹0.10 ₹0.10   ₹812,831,663,108.10   ₹0.03  \n",
      "5     ₹0.25           ₹0.09 ₹0.09   ₹293,614,363,258.51   ₹0.03  \n",
      "1     ₹0.25           ₹0.10 ₹0.10    ₹65,843,778,055.82   ₹0.16  \n",
      "3     ₹0.25           ₹0.09 ₹0.09    ₹52,501,433,656.63   ₹0.10  \n",
      "\n",
      "🧮 Estimated Intrinsic Value of NIFTY 50 Index: ₹3,669,133,579,656.81\n"
     ]
    },
    {
     "name": "stderr",
     "output_type": "stream",
     "text": [
      "\n"
     ]
    }
   ],
   "source": [
    "import yfinance as yf\n",
    "import pandas as pd\n",
    "import numpy as np\n",
    "from tqdm import tqdm\n",
    "\n",
    "# Step 1: Define NIFTY 50 Tickers\n",
    "nifty50_tickers = [\n",
    "    \"RELIANCE.NS\", \"TCS.NS\", \"INFY.NS\", \"HDFCBANK.NS\", \"ICICIBANK.NS\",\n",
    "    \"HINDUNILVR.NS\", \"SBIN.NS\", \"ITC.NS\", \"LT.NS\", \"KOTAKBANK.NS\",\n",
    "    \"AXISBANK.NS\", \"BHARTIARTL.NS\", \"ASIANPAINT.NS\", \"BAJFINANCE.NS\",\n",
    "    \"HCLTECH.NS\", \"MARUTI.NS\", \"SUNPHARMA.NS\", \"NTPC.NS\", \"WIPRO.NS\",\n",
    "    \"ULTRACEMCO.NS\", \"POWERGRID.NS\", \"NESTLEIND.NS\", \"TITAN.NS\",\n",
    "    \"JSWSTEEL.NS\", \"TATAMOTORS.NS\", \"COALINDIA.NS\", \"TATASTEEL.NS\",\n",
    "    \"GRASIM.NS\", \"ADANIENT.NS\", \"TECHM.NS\", \"INDUSINDBK.NS\", \"BPCL.NS\",\n",
    "    \"CIPLA.NS\", \"DRREDDY.NS\", \"BRITANNIA.NS\", \"ONGC.NS\", \"HDFCLIFE.NS\",\n",
    "    \"BAJAJFINSV.NS\", \"DIVISLAB.NS\", \"BAJAJ-AUTO.NS\", \"HINDALCO.NS\",\n",
    "    \"SBILIFE.NS\", \"HEROMOTOCO.NS\", \"EICHERMOT.NS\", \"SHREECEM.NS\",\n",
    "    \"UPL.NS\", \"TATACONSUM.NS\", \"M&M.NS\", \"APOLLOHOSP.NS\", \"LTIM.NS\"\n",
    "]\n",
    "\n",
    "# Step 2: Initialize empty DataFrame\n",
    "columns = [\n",
    "    \"Ticker\", \"Market Cap\", \"Beta\", \"FCF\", \"Growth Rate\", \"Debt\", \"Equity\",\n",
    "    \"Cost of Debt\", \"Tax Rate\", \"Cost of Equity\", \"WACC\", \"Intrinsic Value\"\n",
    "]\n",
    "financial_data = pd.DataFrame(columns=columns)\n",
    "\n",
    "# Step 3: Constants\n",
    "risk_free_rate = 0.07\n",
    "market_return = 0.12\n",
    "cost_of_debt_assumption = 0.08\n",
    "tax_rate = 0.25\n",
    "growth_rate = 0.05  # conservative long-term growth\n",
    "\n",
    "# Step 4: Loop through tickers\n",
    "for ticker in tqdm(nifty50_tickers, desc=\"Processing NIFTY50 companies\"):\n",
    "    try:\n",
    "        stock = yf.Ticker(ticker)\n",
    "        info = stock.info\n",
    "\n",
    "        market_cap = info.get(\"marketCap\", None)\n",
    "        beta = info.get(\"beta\", None)\n",
    "        fcf = info.get(\"freeCashflow\", None)\n",
    "        total_debt = info.get(\"totalDebt\", 0)\n",
    "\n",
    "        if not all([market_cap, beta, fcf]):\n",
    "            print(f\"⚠️ Skipping {ticker} due to missing financial data.\")\n",
    "            continue\n",
    "\n",
    "        market_cap = float(market_cap)\n",
    "        beta = float(beta)\n",
    "        fcf = float(fcf)\n",
    "        total_debt = float(total_debt)\n",
    "        equity = market_cap\n",
    "        cost_of_equity = risk_free_rate + beta * (market_return - risk_free_rate)\n",
    "        cost_of_debt = cost_of_debt_assumption\n",
    "\n",
    "        total_value = equity + total_debt\n",
    "        wacc = ((equity / total_value) * cost_of_equity +\n",
    "                (total_debt / total_value) * cost_of_debt * (1 - tax_rate))\n",
    "\n",
    "        # DCF using Gordon Growth Model\n",
    "        if wacc <= growth_rate or fcf <= 0:\n",
    "            intrinsic_value = np.nan\n",
    "        else:\n",
    "            intrinsic_value = (fcf * (1 + growth_rate)) / (wacc - growth_rate)\n",
    "\n",
    "        financial_data = pd.concat([financial_data, pd.DataFrame([{\n",
    "            \"Ticker\": ticker,\n",
    "            \"Market Cap\": market_cap,\n",
    "            \"Beta\": beta,\n",
    "            \"FCF\": fcf,\n",
    "            \"Growth Rate\": growth_rate,\n",
    "            \"Debt\": total_debt,\n",
    "            \"Equity\": equity,\n",
    "            \"Cost of Debt\": cost_of_debt,\n",
    "            \"Tax Rate\": tax_rate,\n",
    "            \"Cost of Equity\": cost_of_equity,\n",
    "            \"WACC\": wacc,\n",
    "            \"Intrinsic Value\": intrinsic_value\n",
    "        }])], ignore_index=True)\n",
    "\n",
    "    except Exception as e:\n",
    "        print(f\"❌ Error processing {ticker}: {e}\")\n",
    "\n",
    "# Step 5: Filter out invalid values\n",
    "financial_data.dropna(subset=[\"Intrinsic Value\"], inplace=True)\n",
    "\n",
    "# Step 6: Weighting by market cap\n",
    "financial_data[\"Weight\"] = financial_data[\"Market Cap\"] / financial_data[\"Market Cap\"].sum()\n",
    "financial_data[\"Weighted Intrinsic Value\"] = financial_data[\"Intrinsic Value\"] * financial_data[\"Weight\"]\n",
    "nifty50_intrinsic_value = financial_data[\"Weighted Intrinsic Value\"].sum()\n",
    "\n",
    "# Step 7: Display results (clean formatting)\n",
    "pd.set_option('display.float_format', lambda x: f'₹{x:,.2f}')\n",
    "print(\"\\n===== NIFTY 50 DCF Analysis Result (Corrected) =====\\n\")\n",
    "print(financial_data[columns + [\"Weight\"]].sort_values(by=\"Intrinsic Value\", ascending=False))\n",
    "\n",
    "print(f\"\\n🧮 Estimated Intrinsic Value of NIFTY 50 Index: ₹{nifty50_intrinsic_value:,.2f}\")"
   ]
  },
  {
   "cell_type": "code",
   "execution_count": 13,
   "id": "bc99bceb-6050-450d-9840-9f0e2eee6637",
   "metadata": {},
   "outputs": [
    {
     "name": "stdout",
     "output_type": "stream",
     "text": [
      "Fetching financial data for NIFTY50 companies...\n",
      "\n"
     ]
    },
    {
     "name": "stderr",
     "output_type": "stream",
     "text": [
      "Processing NIFTY50 companies: 100%|█████████████| 50/50 [00:12<00:00,  4.05it/s]"
     ]
    },
    {
     "name": "stdout",
     "output_type": "stream",
     "text": [
      "\n",
      "✅ Financial data collected successfully!\n"
     ]
    },
    {
     "name": "stderr",
     "output_type": "stream",
     "text": [
      "\n"
     ]
    },
    {
     "data": {
      "text/html": [
       "<div>\n",
       "<style scoped>\n",
       "    .dataframe tbody tr th:only-of-type {\n",
       "        vertical-align: middle;\n",
       "    }\n",
       "\n",
       "    .dataframe tbody tr th {\n",
       "        vertical-align: top;\n",
       "    }\n",
       "\n",
       "    .dataframe thead th {\n",
       "        text-align: right;\n",
       "    }\n",
       "</style>\n",
       "<table border=\"1\" class=\"dataframe\">\n",
       "  <thead>\n",
       "    <tr style=\"text-align: right;\">\n",
       "      <th></th>\n",
       "      <th>Ticker</th>\n",
       "      <th>Name</th>\n",
       "      <th>Sector</th>\n",
       "      <th>Industry</th>\n",
       "      <th>Market Cap</th>\n",
       "      <th>PE Ratio</th>\n",
       "      <th>EPS</th>\n",
       "      <th>Price to Book</th>\n",
       "      <th>Dividend Yield</th>\n",
       "      <th>Return on Equity</th>\n",
       "      <th>Current Price</th>\n",
       "    </tr>\n",
       "  </thead>\n",
       "  <tbody>\n",
       "    <tr>\n",
       "      <th>0</th>\n",
       "      <td>RELIANCE.NS</td>\n",
       "      <td>RELIANCE INDUSTRIES LTD</td>\n",
       "      <td>Energy</td>\n",
       "      <td>Oil &amp; Gas Refining &amp; Marketing</td>\n",
       "      <td>16302481604608</td>\n",
       "      <td>₹23.58</td>\n",
       "      <td>₹51.08</td>\n",
       "      <td>₹1.99</td>\n",
       "      <td>₹0.42</td>\n",
       "      <td>NaN</td>\n",
       "      <td>₹1,204.70</td>\n",
       "    </tr>\n",
       "    <tr>\n",
       "      <th>1</th>\n",
       "      <td>HDFCBANK.NS</td>\n",
       "      <td>HDFC BANK LTD</td>\n",
       "      <td>Financial Services</td>\n",
       "      <td>Banks - Regional</td>\n",
       "      <td>13906342838272</td>\n",
       "      <td>₹20.33</td>\n",
       "      <td>₹89.41</td>\n",
       "      <td>₹2.76</td>\n",
       "      <td>₹1.07</td>\n",
       "      <td>₹0.15</td>\n",
       "      <td>₹1,817.30</td>\n",
       "    </tr>\n",
       "    <tr>\n",
       "      <th>2</th>\n",
       "      <td>ICICIBANK.NS</td>\n",
       "      <td>ICICI BANK LTD.</td>\n",
       "      <td>Financial Services</td>\n",
       "      <td>Banks - Regional</td>\n",
       "      <td>9509914279936</td>\n",
       "      <td>₹19.46</td>\n",
       "      <td>₹68.63</td>\n",
       "      <td>₹3.22</td>\n",
       "      <td>₹0.75</td>\n",
       "      <td>₹0.19</td>\n",
       "      <td>₹1,335.30</td>\n",
       "    </tr>\n",
       "    <tr>\n",
       "      <th>3</th>\n",
       "      <td>INFY.NS</td>\n",
       "      <td>INFOSYS LIMITED</td>\n",
       "      <td>Technology</td>\n",
       "      <td>Information Technology Services</td>\n",
       "      <td>6014302158848</td>\n",
       "      <td>₹21.46</td>\n",
       "      <td>₹67.65</td>\n",
       "      <td>₹583.46</td>\n",
       "      <td>₹2.82</td>\n",
       "      <td>₹0.33</td>\n",
       "      <td>₹1,451.65</td>\n",
       "    </tr>\n",
       "    <tr>\n",
       "      <th>4</th>\n",
       "      <td>HINDUNILVR.NS</td>\n",
       "      <td>HINDUSTAN UNILEVER LTD.</td>\n",
       "      <td>Consumer Defensive</td>\n",
       "      <td>Household &amp; Personal Products</td>\n",
       "      <td>5273772621824</td>\n",
       "      <td>₹49.02</td>\n",
       "      <td>₹45.79</td>\n",
       "      <td>₹10.38</td>\n",
       "      <td>₹1.92</td>\n",
       "      <td>NaN</td>\n",
       "      <td>₹2,244.55</td>\n",
       "    </tr>\n",
       "  </tbody>\n",
       "</table>\n",
       "</div>"
      ],
      "text/plain": [
       "          Ticker                     Name              Sector  \\\n",
       "0    RELIANCE.NS  RELIANCE INDUSTRIES LTD              Energy   \n",
       "1    HDFCBANK.NS            HDFC BANK LTD  Financial Services   \n",
       "2   ICICIBANK.NS          ICICI BANK LTD.  Financial Services   \n",
       "3        INFY.NS          INFOSYS LIMITED          Technology   \n",
       "4  HINDUNILVR.NS  HINDUSTAN UNILEVER LTD.  Consumer Defensive   \n",
       "\n",
       "                          Industry      Market Cap  PE Ratio    EPS  \\\n",
       "0   Oil & Gas Refining & Marketing  16302481604608    ₹23.58 ₹51.08   \n",
       "1                 Banks - Regional  13906342838272    ₹20.33 ₹89.41   \n",
       "2                 Banks - Regional   9509914279936    ₹19.46 ₹68.63   \n",
       "3  Information Technology Services   6014302158848    ₹21.46 ₹67.65   \n",
       "4    Household & Personal Products   5273772621824    ₹49.02 ₹45.79   \n",
       "\n",
       "   Price to Book  Dividend Yield  Return on Equity  Current Price  \n",
       "0          ₹1.99           ₹0.42               NaN      ₹1,204.70  \n",
       "1          ₹2.76           ₹1.07             ₹0.15      ₹1,817.30  \n",
       "2          ₹3.22           ₹0.75             ₹0.19      ₹1,335.30  \n",
       "3        ₹583.46           ₹2.82             ₹0.33      ₹1,451.65  \n",
       "4         ₹10.38           ₹1.92               NaN      ₹2,244.55  "
      ]
     },
     "metadata": {},
     "output_type": "display_data"
    }
   ],
   "source": [
    "import yfinance as yf\n",
    "import pandas as pd\n",
    "from tqdm import tqdm\n",
    "\n",
    "# Get NIFTY50 tickers\n",
    "nifty50_tickers = [\n",
    "    'RELIANCE.NS', 'HDFCBANK.NS', 'ICICIBANK.NS', 'INFY.NS', 'HINDUNILVR.NS',\n",
    "    'SBIN.NS', 'ITC.NS', 'LT.NS', 'KOTAKBANK.NS', 'AXISBANK.NS',\n",
    "    'ASIANPAINT.NS', 'BAJFINANCE.NS', 'TCS.NS', 'MARUTI.NS', 'SUNPHARMA.NS',\n",
    "    'NTPC.NS', 'ULTRACEMCO.NS', 'POWERGRID.NS', 'NESTLEIND.NS', 'TITAN.NS',\n",
    "    'JSWSTEEL.NS', 'TATAMOTORS.NS', 'COALINDIA.NS', 'TATASTEEL.NS',\n",
    "    'GRASIM.NS', 'ADANIENT.NS', 'TECHM.NS', 'INDUSINDBK.NS', 'HCLTECH.NS',\n",
    "    'BPCL.NS', 'CIPLA.NS', 'WIPRO.NS', 'BAJAJ-AUTO.NS', 'DRREDDY.NS',\n",
    "    'BHARTIARTL.NS', 'BRITANNIA.NS', 'ONGC.NS', 'HDFCLIFE.NS',\n",
    "    'BAJAJFINSV.NS', 'DIVISLAB.NS', 'EICHERMOT.NS', 'HINDALCO.NS',\n",
    "    'SBILIFE.NS', 'ADANIPORTS.NS', 'APOLLOHOSP.NS', 'UPL.NS', 'HEROMOTOCO.NS',\n",
    "    'TATACONSUM.NS', 'BAJAJHLDNG.NS', 'SHREECEM.NS'\n",
    "]\n",
    "\n",
    "# Initialize dataframe to store all financial data\n",
    "financial_data = []\n",
    "\n",
    "# Loop through each ticker and fetch info safely\n",
    "print(\"Fetching financial data for NIFTY50 companies...\\n\")\n",
    "for ticker in tqdm(nifty50_tickers, desc=\"Processing NIFTY50 companies\"):\n",
    "    try:\n",
    "        stock = yf.Ticker(ticker)\n",
    "        info = stock.info\n",
    "\n",
    "        # Skip if financial info is missing or empty\n",
    "        if not info or info.get(\"shortName\") is None:\n",
    "            print(f\"⚠️ Skipping {ticker} due to missing financial data.\")\n",
    "            continue\n",
    "\n",
    "        # Extract key financial metrics\n",
    "        data = {\n",
    "            'Ticker': ticker,\n",
    "            'Name': info.get('shortName'),\n",
    "            'Sector': info.get('sector'),\n",
    "            'Industry': info.get('industry'),\n",
    "            'Market Cap': info.get('marketCap'),\n",
    "            'PE Ratio': info.get('trailingPE'),\n",
    "            'EPS': info.get('trailingEps'),\n",
    "            'Price to Book': info.get('priceToBook'),\n",
    "            'Dividend Yield': info.get('dividendYield'),\n",
    "            'Return on Equity': info.get('returnOnEquity'),\n",
    "            'Current Price': info.get('currentPrice')\n",
    "        }\n",
    "\n",
    "        financial_data.append(data)\n",
    "\n",
    "    except Exception as e:\n",
    "        print(f\"⚠️ Skipping {ticker} due to error: {e}\")\n",
    "\n",
    "# Convert to DataFrame only if data is available\n",
    "if financial_data:\n",
    "    df_financials = pd.DataFrame(financial_data)\n",
    "    print(\"\\n✅ Financial data collected successfully!\")\n",
    "    display(df_financials.head())\n",
    "else:\n",
    "    print(\"❌ No financial data collected. Please check tickers or try again later.\")"
   ]
  },
  {
   "cell_type": "code",
   "execution_count": 15,
   "id": "87920b71-3f8e-486f-bdc0-3f00fd323a57",
   "metadata": {},
   "outputs": [],
   "source": [
    "df_financials.to_csv(\"nifty50_financials.csv\", index=False)"
   ]
  },
  {
   "cell_type": "code",
   "execution_count": null,
   "id": "c3614e74-7daf-41bb-a193-e93a660e7f33",
   "metadata": {},
   "outputs": [],
   "source": []
  }
 ],
 "metadata": {
  "kernelspec": {
   "display_name": "Python [conda env:base] *",
   "language": "python",
   "name": "conda-base-py"
  },
  "language_info": {
   "codemirror_mode": {
    "name": "ipython",
    "version": 3
   },
   "file_extension": ".py",
   "mimetype": "text/x-python",
   "name": "python",
   "nbconvert_exporter": "python",
   "pygments_lexer": "ipython3",
   "version": "3.12.7"
  }
 },
 "nbformat": 4,
 "nbformat_minor": 5
}
